{
 "cells": [
  {
   "cell_type": "markdown",
   "metadata": {
    "colab_type": "text",
    "id": "view-in-github"
   },
   "source": [
    "<a href=\"https://colab.research.google.com/github/avkornaev/Fast_AI_course/blob/main/XRayImagesAnalysis.ipynb\" target=\"_parent\"><img src=\"https://colab.research.google.com/assets/colab-badge.svg\" alt=\"Open In Colab\"/></a>"
   ]
  },
  {
   "cell_type": "code",
   "execution_count": 45,
   "metadata": {
    "id": "_vrvwykR1EyO"
   },
   "outputs": [],
   "source": [
    "#hide\n",
    "!pip install -Uqq fastbook\n",
    "#!git clone 'https://github.com/avkornaev/Fast_AI_course'\n",
    "#!wget <ENTER URL> Download dataset from the web with"
   ]
  },
  {
   "cell_type": "markdown",
   "metadata": {
    "id": "SPzafoKh5OZ7"
   },
   "source": [
    "Connect to Google disk."
   ]
  },
  {
   "cell_type": "code",
   "execution_count": 46,
   "metadata": {
    "colab": {
     "base_uri": "https://localhost:8080/"
    },
    "id": "MWLuueIn5Q8s",
    "outputId": "4a305506-1467-4b56-f52c-58c8f344ac26"
   },
   "outputs": [],
   "source": [
    "# from google.colab import drive\n",
    "# drive.mount('/content/drive')"
   ]
  },
  {
   "cell_type": "markdown",
   "metadata": {
    "id": "NZioi9Teoakg"
   },
   "source": [
    "Import libraries. Connect to Google disk."
   ]
  },
  {
   "cell_type": "code",
   "execution_count": 47,
   "metadata": {
    "id": "X00OmrS31FyM"
   },
   "outputs": [],
   "source": [
    "import fastbook\n",
    "#fastbook.setup_book() #an alternative to drive.mount with gdrive path instead of drive path \n",
    "import numpy as np\n",
    "import pandas as pd\n",
    "from fastbook import *\n",
    "from fastai.data.all import *\n",
    "from fastai.vision.all import *\n",
    "from fastai.vision.widgets import *"
   ]
  },
  {
   "cell_type": "markdown",
   "metadata": {
    "id": "VFIt9qyVyXLd"
   },
   "source": [
    "Path.\n"
   ]
  },
  {
   "cell_type": "code",
   "execution_count": 48,
   "metadata": {
    "id": "KGvBkXIdybjZ"
   },
   "outputs": [],
   "source": [
    "dataPath = Path('G:\\Covid_detection_Kaggle_summer_2021')\n",
    "imdsFolder = 'images'\n",
    "#root_dir = dataPath\n",
    "#base_dir = root_dir\n",
    "#print(os.getcwd()) # current directory"
   ]
  },
  {
   "cell_type": "code",
   "execution_count": 49,
   "metadata": {
    "colab": {
     "base_uri": "https://localhost:8080/"
    },
    "id": "nDVtjn4ek0_t",
    "outputId": "698ca658-88a9-475b-c438-dc1527835bc0"
   },
   "outputs": [
    {
     "name": "stdout",
     "output_type": "stream",
     "text": [
      "C:\\Users\\rusak\n"
     ]
    }
   ],
   "source": [
    "print(os.getcwd()) # current directory"
   ]
  },
  {
   "cell_type": "markdown",
   "metadata": {
    "id": "SR0GFp19_V0P"
   },
   "source": [
    "Settings."
   ]
  },
  {
   "cell_type": "code",
   "execution_count": 50,
   "metadata": {
    "id": "EFj3r314_XWV"
   },
   "outputs": [],
   "source": [
    "initImSize = 1024\n",
    "reqImSize = 224\n",
    "cropRatio = reqImSize/initImSize\n",
    "NoOfImds = 5000 # desired number or 'all'\n",
    "NoOfDispImds = 4 # number of displayed images\n",
    "batchSize = 8"
   ]
  },
  {
   "cell_type": "markdown",
   "metadata": {
    "id": "1st1hcEBivNw"
   },
   "source": [
    "Create list of classes."
   ]
  },
  {
   "cell_type": "code",
   "execution_count": 51,
   "metadata": {
    "colab": {
     "base_uri": "https://localhost:8080/"
    },
    "id": "cnjnQvyjZiCp",
    "outputId": "52073426-140c-4cfa-ada1-fb277a4da06d"
   },
   "outputs": [],
   "source": [
    "classes = ['0 - Negative','1 - Typical','2 - Indeterminate','3 - Atypical']\n",
    "n = len(classes)\n",
    "# print(os.getcwd()) # current directory\n",
    "# print(os.listdir('/content')) # and it's content"
   ]
  },
  {
   "cell_type": "code",
   "execution_count": 52,
   "metadata": {
    "id": "gpGGm84yy-JV"
   },
   "outputs": [],
   "source": [
    "import json\n",
    "with open(dataPath/\"targets.json\", \"r\") as f:\n",
    "    targets = json.load(f)\n",
    "#print(targets)"
   ]
  },
  {
   "cell_type": "markdown",
   "metadata": {
    "id": "PpyPSeIAibV6"
   },
   "source": [
    "Check an image information."
   ]
  },
  {
   "cell_type": "code",
   "execution_count": 53,
   "metadata": {
    "colab": {
     "base_uri": "https://localhost:8080/"
    },
    "id": "5m6vfRmqiDyL",
    "outputId": "c467f9a6-d967-43bc-9111-0276dff1ffcb"
   },
   "outputs": [
    {
     "name": "stdout",
     "output_type": "stream",
     "text": [
      "study level (class number):  1\n",
      "image level (bounding boxes):  {'boxes': [[0.18545309210526317, 0.16698117832568807, 0.42667880169172934, 0.7166666485091744], [0.5277049060150376, 0.16949692660550458, 0.7849092340225564, 0.6745283027522936]], 'labels': [1, 1], 'image_id': '000a312787f2', 'iscrowd': [0, 0], 'area': [6653.2506748157, 6517.674527234884]}\n",
      "metadata (additional info from the DICOM image file):  [0.1976, 0.35119999999999996, 0.5, -0.44066666666666665, -0.16366666666666668, 0.5, 0.0, 0.0, -0.75, -0.5, -0.5, -0.4166666666666667]\n"
     ]
    }
   ],
   "source": [
    "image_id = '000a312787f2'\n",
    "print('study level (class number): ', targets[image_id]['study_level'])\n",
    "print('image level (bounding boxes): ', targets[image_id]['image_level'])\n",
    "print('metadata (additional info from the DICOM image file): ', targets[image_id]['metadata'])"
   ]
  },
  {
   "cell_type": "markdown",
   "metadata": {
    "id": "HDLyuWU4IBN4"
   },
   "source": [
    "Create data frame."
   ]
  },
  {
   "cell_type": "code",
   "execution_count": 54,
   "metadata": {
    "id": "Wc2NCA_se-I6"
   },
   "outputs": [],
   "source": [
    "targetsDFa = pd.DataFrame(targets) # auxiliary dataFrame\n",
    "targetsDF_init = np.array([list(targetsDFa.columns+'.png'), list(targetsDFa.loc['study_level'].values)])\n",
    "targetsDF_init = pd.DataFrame(targetsDF_init.T, columns = ['file_name', 'label'])\n",
    "num = np.random.choice(targetsDF_init.shape[0], targetsDF_init.shape[0], replace = False)\n",
    "targetsDF_init = targetsDF_init.iloc[num]"
   ]
  },
  {
   "cell_type": "code",
   "execution_count": 55,
   "metadata": {},
   "outputs": [
    {
     "data": {
      "text/plain": [
       "1    3005\n",
       "0    1735\n",
       "2    1108\n",
       "3     483\n",
       "Name: label, dtype: int64"
      ]
     },
     "execution_count": 55,
     "metadata": {},
     "output_type": "execute_result"
    }
   ],
   "source": [
    "targetsDF_init.label.value_counts()"
   ]
  },
  {
   "cell_type": "code",
   "execution_count": 56,
   "metadata": {
    "id": "vV0bN1pBX_a2"
   },
   "outputs": [
    {
     "name": "stderr",
     "output_type": "stream",
     "text": [
      "<ipython-input-56-705cc26e4207>:4: UserWarning: Boolean Series key will be reindexed to match DataFrame index.\n",
      "  ind = targetsDF[targetsDF_init.label=='2'].index\n"
     ]
    }
   ],
   "source": [
    "if NoOfImds != 'all':\n",
    "    targetsDF = targetsDF_init.iloc[:NoOfImds]\n",
    "    targetsDF_test = targetsDF_init.iloc[NoOfImds:]\n",
    "ind = targetsDF[targetsDF_init.label=='2'].index\n",
    "targetsDF = targetsDF.drop(axis = 0, index = ind)\n",
    "targetsDF = targetsDF.append(targetsDF_init.loc[ind[0]])\n"
   ]
  },
  {
   "cell_type": "code",
   "execution_count": 57,
   "metadata": {},
   "outputs": [
    {
     "data": {
      "text/plain": [
       "1    2359\n",
       "0    1367\n",
       "3     389\n",
       "2       1\n",
       "Name: label, dtype: int64"
      ]
     },
     "execution_count": 57,
     "metadata": {},
     "output_type": "execute_result"
    }
   ],
   "source": [
    "targetsDF.label.value_counts()"
   ]
  },
  {
   "cell_type": "code",
   "execution_count": 58,
   "metadata": {
    "colab": {
     "base_uri": "https://localhost:8080/",
     "height": 204
    },
    "id": "DtIU523WvyaC",
    "outputId": "383af018-b81c-4f87-b3d6-b8e15bb87f07"
   },
   "outputs": [
    {
     "data": {
      "text/plain": [
       "1    646\n",
       "0    368\n",
       "2    223\n",
       "3     94\n",
       "Name: label, dtype: int64"
      ]
     },
     "execution_count": 58,
     "metadata": {},
     "output_type": "execute_result"
    }
   ],
   "source": [
    "targetsDF_test.label.value_counts()"
   ]
  },
  {
   "cell_type": "code",
   "execution_count": 59,
   "metadata": {
    "colab": {
     "base_uri": "https://localhost:8080/"
    },
    "id": "hGY-_YR_tZws",
    "outputId": "7fc2ff67-e7b7-4ecf-8368-db0add1e1e86"
   },
   "outputs": [
    {
     "data": {
      "text/plain": [
       "(4116, 2)"
      ]
     },
     "execution_count": 59,
     "metadata": {},
     "output_type": "execute_result"
    }
   ],
   "source": [
    "targetsDF.values.shape"
   ]
  },
  {
   "cell_type": "code",
   "execution_count": 60,
   "metadata": {
    "colab": {
     "base_uri": "https://localhost:8080/"
    },
    "id": "641P2zOZXa5I",
    "outputId": "0f3e0611-2b24-4f98-9fc2-4a2992013e67"
   },
   "outputs": [
    {
     "data": {
      "text/html": [
       "<div>\n",
       "<style scoped>\n",
       "    .dataframe tbody tr th:only-of-type {\n",
       "        vertical-align: middle;\n",
       "    }\n",
       "\n",
       "    .dataframe tbody tr th {\n",
       "        vertical-align: top;\n",
       "    }\n",
       "\n",
       "    .dataframe thead th {\n",
       "        text-align: right;\n",
       "    }\n",
       "</style>\n",
       "<table border=\"1\" class=\"dataframe\">\n",
       "  <thead>\n",
       "    <tr style=\"text-align: right;\">\n",
       "      <th></th>\n",
       "      <th>file_name</th>\n",
       "      <th>label</th>\n",
       "    </tr>\n",
       "  </thead>\n",
       "  <tbody>\n",
       "    <tr>\n",
       "      <th>5554</th>\n",
       "      <td>7749cddd0a17.png</td>\n",
       "      <td>1</td>\n",
       "    </tr>\n",
       "    <tr>\n",
       "      <th>3315</th>\n",
       "      <td>b2e0f472113b.png</td>\n",
       "      <td>1</td>\n",
       "    </tr>\n",
       "    <tr>\n",
       "      <th>1665</th>\n",
       "      <td>b866020311f0.png</td>\n",
       "      <td>3</td>\n",
       "    </tr>\n",
       "    <tr>\n",
       "      <th>5902</th>\n",
       "      <td>7064823e0cf2.png</td>\n",
       "      <td>3</td>\n",
       "    </tr>\n",
       "    <tr>\n",
       "      <th>6250</th>\n",
       "      <td>29f06cd1c344.png</td>\n",
       "      <td>1</td>\n",
       "    </tr>\n",
       "  </tbody>\n",
       "</table>\n",
       "</div>"
      ],
      "text/plain": [
       "             file_name label\n",
       "5554  7749cddd0a17.png     1\n",
       "3315  b2e0f472113b.png     1\n",
       "1665  b866020311f0.png     3\n",
       "5902  7064823e0cf2.png     3\n",
       "6250  29f06cd1c344.png     1"
      ]
     },
     "execution_count": 60,
     "metadata": {},
     "output_type": "execute_result"
    }
   ],
   "source": [
    "targetsDF.head()"
   ]
  },
  {
   "cell_type": "markdown",
   "metadata": {
    "id": "oB0OhWKFBZNF"
   },
   "source": [
    "Download and import of X-ray images.\n",
    "\n",
    "https://docs.fast.ai/tutorial.medical_imaging.html#Download-and-import-of-X-ray-DICOM-files\n",
    "\n",
    "https://docs.fast.ai/vision.data.html#ImageDataLoaders.from_df\n",
    "\n",
    "https://colab.research.google.com/github/fastai/fastbook/blob/master/02_production.ipynb#scrollTo=vP4nen7N383Q"
   ]
  },
  {
   "cell_type": "code",
   "execution_count": 61,
   "metadata": {
    "id": "AZefzic6BYl8"
   },
   "outputs": [],
   "source": [
    "#images_source = untar_data()\n",
    "# xray = ImageDataLoaders.from_df(targetsDF, path=dataPath/imdsFolder, valid_pct=0.2,\n",
    "#                                 seed=42, fn_col=0, folder=None, \n",
    "#                                 suff='', label_col=1, label_delim=None, \n",
    "#                                 y_block=None, valid_col=None, item_tfms=Resize(224), \n",
    "#                                 batch_tfms=None, bs=64, val_bs=None, \n",
    "#                                 shuffle=None, device=None)\n",
    "# item_tfms=Resize(128)\n",
    "\n",
    "xray = DataBlock(\n",
    "    blocks=(ImageBlock, CategoryBlock),\n",
    "    get_x=lambda x: dataPath/imdsFolder/x[0],\n",
    "    splitter=RandomSplitter(valid_pct=0.2, seed=42),\n",
    "    get_y=lambda x: x[1],\n",
    "    item_tfms=Resize(reqImSize))"
   ]
  },
  {
   "cell_type": "code",
   "execution_count": 62,
   "metadata": {
    "id": "BPvnI4avYumc"
   },
   "outputs": [],
   "source": [
    "#?DataBlock.dataloaders"
   ]
  },
  {
   "cell_type": "code",
   "execution_count": 63,
   "metadata": {
    "colab": {
     "base_uri": "https://localhost:8080/"
    },
    "id": "vzwveU5hCp8W",
    "outputId": "8253e97e-1a7b-4f99-b4a9-c0fdded25c8d"
   },
   "outputs": [],
   "source": [
    "dls = xray.dataloaders(targetsDF.values, path=dataPath/imdsFolder,\n",
    "                       num_workers=0, verbose=None, bs=batchSize)"
   ]
  },
  {
   "cell_type": "code",
   "execution_count": 64,
   "metadata": {},
   "outputs": [
    {
     "data": {
      "text/plain": [
       "['0', '1', '2', '3']"
      ]
     },
     "execution_count": 64,
     "metadata": {},
     "output_type": "execute_result"
    }
   ],
   "source": [
    "dls.vocab"
   ]
  },
  {
   "cell_type": "markdown",
   "metadata": {
    "id": "PuFAZXxt4y1K"
   },
   "source": [
    "Check images (optional)."
   ]
  },
  {
   "cell_type": "code",
   "execution_count": 65,
   "metadata": {
    "colab": {
     "base_uri": "https://localhost:8080/"
    },
    "id": "RqEW5Vpc4Kp9",
    "outputId": "3d5d333c-0825-4664-fcd9-355b77f216d8"
   },
   "outputs": [],
   "source": [
    "#hide\n",
    "# fns = get_image_files(dataPath/imdsFolder)\n",
    "# fns\n",
    "#failed = verify_images(fns)\n",
    "#print(failed)\n",
    "#failed.map(Path.unlink);"
   ]
  },
  {
   "cell_type": "markdown",
   "metadata": {
    "id": "hRlcgzemC_d8"
   },
   "source": [
    "Visualise a batch of images."
   ]
  },
  {
   "cell_type": "code",
   "execution_count": 66,
   "metadata": {
    "colab": {
     "base_uri": "https://localhost:8080/",
     "height": 193
    },
    "id": "fvQqeuKTr4-i",
    "outputId": "fafd1e25-aac5-43bf-ece9-84941c8d08f9"
   },
   "outputs": [
    {
     "data": {
      "image/png": "[encoded data removed]",
      "text/plain": [
       "<Figure size 864x216 with 4 Axes>"
      ]
     },
     "metadata": {
      "needs_background": "light"
     },
     "output_type": "display_data"
    }
   ],
   "source": [
    "#dls = xray.dataloaders(targetsDF.values, num_workers=0)\n",
    "dls.train.show_batch(max_n=4, nrows=1, unique=None) # uniqu=True allows to display only 1 image"
   ]
  },
  {
   "cell_type": "code",
   "execution_count": 67,
   "metadata": {},
   "outputs": [
    {
     "data": {
      "text/html": [],
      "text/plain": [
       "<IPython.core.display.HTML object>"
      ]
     },
     "metadata": {},
     "output_type": "display_data"
    },
    {
     "data": {
      "image/png": "[encoded data removed]",
      "text/plain": [
       "<Figure size 432x288 with 1 Axes>"
      ]
     },
     "metadata": {
      "needs_background": "light"
     },
     "output_type": "display_data"
    }
   ],
   "source": [
    "learn = cnn_learner(dls, resnet18, metrics=error_rate)\n",
    "rate = learn.lr_find()"
   ]
  },
  {
   "cell_type": "code",
   "execution_count": null,
   "metadata": {},
   "outputs": [
    {
     "data": {
      "text/html": [
       "\n",
       "    <div>\n",
       "        <style>\n",
       "            /* Turns off some styling */\n",
       "            progress {\n",
       "                /* gets rid of default border in Firefox and Opera. */\n",
       "                border: none;\n",
       "                /* Needs to be in here for Safari polyfill so background images work as expected. */\n",
       "                background-size: auto;\n",
       "            }\n",
       "            .progress-bar-interrupted, .progress-bar-interrupted::-webkit-progress-bar {\n",
       "                background: #F44336;\n",
       "            }\n",
       "        </style>\n",
       "      <progress value='0' class='' max='1' style='width:300px; height:20px; vertical-align: middle;'></progress>\n",
       "      0.00% [0/1 00:00<00:00]\n",
       "    </div>\n",
       "    \n",
       "<table border=\"1\" class=\"dataframe\">\n",
       "  <thead>\n",
       "    <tr style=\"text-align: left;\">\n",
       "      <th>epoch</th>\n",
       "      <th>train_loss</th>\n",
       "      <th>valid_loss</th>\n",
       "      <th>error_rate</th>\n",
       "      <th>time</th>\n",
       "    </tr>\n",
       "  </thead>\n",
       "  <tbody>\n",
       "  </tbody>\n",
       "</table><p>\n",
       "\n",
       "    <div>\n",
       "        <style>\n",
       "            /* Turns off some styling */\n",
       "            progress {\n",
       "                /* gets rid of default border in Firefox and Opera. */\n",
       "                border: none;\n",
       "                /* Needs to be in here for Safari polyfill so background images work as expected. */\n",
       "                background-size: auto;\n",
       "            }\n",
       "            .progress-bar-interrupted, .progress-bar-interrupted::-webkit-progress-bar {\n",
       "                background: #F44336;\n",
       "            }\n",
       "        </style>\n",
       "      <progress value='164' class='' max='411' style='width:300px; height:20px; vertical-align: middle;'></progress>\n",
       "      39.90% [164/411 01:48<02:42 1.6387]\n",
       "    </div>\n",
       "    "
      ],
      "text/plain": [
       "<IPython.core.display.HTML object>"
      ]
     },
     "metadata": {},
     "output_type": "display_data"
    }
   ],
   "source": [
    "targetsDF_copy = targetsDF.copy()\n",
    "noOfepochs = 2\n",
    "num_of_swap = 5\n",
    "acc = np.zeros((num_of_swap,1))\n",
    "for k in range(num_of_swap):\n",
    "    dls = xray.dataloaders(targetsDF_copy.values, path=dataPath/imdsFolder, num_workers=0, verbose=None, bs=batchSize)\n",
    "    cbs=[SaveModelCallback()]\n",
    "    learn = cnn_learner(dls, resnet18, metrics=error_rate)\n",
    "#     learn.fine_tune(noOfepochs, base_lr=rate.valley)\n",
    "    learn.fine_tune(noOfepochs, base_lr=rate.valley, cbs=cbs)\n",
    "\n",
    "    Y_pred = []\n",
    "    for num in range(targetsDF.shape[0]):\n",
    "        pred = learn.predict(targetsDF.values[num])        \n",
    "        Y_pred.append(pred[0])\n",
    "    \n",
    "    Y_pred = pd.Series(Y_pred, index = targetsDF_copy.index)\n",
    "    ind = targetsDF_copy[((targetsDF.label == '1')|(targetsDF.label == '3'))&(Y_pred!=targetsDF.label)].index\n",
    "    targetsDF_copy.loc[ind, 'label'] = '2'\n",
    "    ind = targetsDF_copy[((targetsDF.label == '1')|(targetsDF.label == '3'))&(Y_pred==targetsDF.label)&(targetsDF_copy.label == '2')].index\n",
    "    targetsDF_copy.loc[ind, 'label'] = Y_pred.loc[ind]    \n",
    "    acc[k] = accuracy(targetsDF.label.values, Y_pred)"
   ]
  },
  {
   "cell_type": "code",
   "execution_count": null,
   "metadata": {},
   "outputs": [],
   "source": [
    "def accuracy(y, y_p):\n",
    "    return(y==y_p).sum()/y.shape[0]"
   ]
  },
  {
   "cell_type": "code",
   "execution_count": null,
   "metadata": {},
   "outputs": [],
   "source": [
    "acc"
   ]
  },
  {
   "cell_type": "code",
   "execution_count": null,
   "metadata": {},
   "outputs": [],
   "source": [
    "plt.plot(np.arange(acc.shape[0]),acc)\n",
    "plt.show()"
   ]
  },
  {
   "cell_type": "code",
   "execution_count": null,
   "metadata": {},
   "outputs": [],
   "source": [
    "# targetsDF_copy = targetsDF.copy()\n",
    "# Y_pred = pd.Series(Y_pred, index = targetsDF_copy.index)\n",
    "# targetsDF_copy.label[Y_pred !=targetsDF.label]\n",
    "# ind = targetsDF_copy[((targetsDF.label == '1')|(targetsDF.label == '3'))&(Y_pred!=targetsDF.label)].index\n",
    "# targetsDF_copy.loc[ind, 'label'] = '2'\n",
    "# ind = targetsDF_copy[((targetsDF.label == '1')|(targetsDF.label == '3'))&(Y_pred==targetsDF.label)&(targetsDF_copy.label == '2')].index\n",
    "# targetsDF_copy.loc[ind, 'label'] = Y_pred.loc[list(ind)]\n",
    "# targetsDF_copy, targetsDF\n",
    "\n",
    "# dls = xray.dataloaders(targetsDF_copy.values, path=dataPath/imdsFolder,\n",
    "#                        num_workers=0, verbose=True, bs=batchSize)"
   ]
  },
  {
   "cell_type": "code",
   "execution_count": null,
   "metadata": {},
   "outputs": [],
   "source": [
    "Y_pred"
   ]
  },
  {
   "cell_type": "code",
   "execution_count": null,
   "metadata": {},
   "outputs": [],
   "source": [
    "y_p = np.reshape(Y_pred.values, (Y_pred.shape[0],1))\n",
    "yy = np.reshape(targetsDF_copy.label.values, (targetsDF_copy.shape[0],1))\n",
    "y_tr = np.reshape(targetsDF.label.values, (targetsDF.shape[0],1))\n",
    "pd.DataFrame(np.concatenate([y_tr, y_p, yy], axis =1), columns = ['y_true', 'y_predict', 'y_doubt'])"
   ]
  },
  {
   "cell_type": "code",
   "execution_count": null,
   "metadata": {},
   "outputs": [],
   "source": []
  },
  {
   "cell_type": "code",
   "execution_count": null,
   "metadata": {},
   "outputs": [],
   "source": []
  },
  {
   "cell_type": "code",
   "execution_count": null,
   "metadata": {},
   "outputs": [],
   "source": []
  },
  {
   "cell_type": "markdown",
   "metadata": {
    "id": "_JTahjvA97KQ"
   },
   "source": [
    "Crop and augment images."
   ]
  },
  {
   "cell_type": "code",
   "execution_count": null,
   "metadata": {
    "colab": {
     "base_uri": "https://localhost:8080/",
     "height": 174
    },
    "id": "NKk5HkhcMDWa",
    "outputId": "75f86770-897c-447e-ec74-9ca3708a6259"
   },
   "outputs": [],
   "source": []
  },
  {
   "cell_type": "code",
   "execution_count": null,
   "metadata": {},
   "outputs": [],
   "source": []
  },
  {
   "cell_type": "code",
   "execution_count": null,
   "metadata": {},
   "outputs": [],
   "source": []
  },
  {
   "cell_type": "code",
   "execution_count": null,
   "metadata": {},
   "outputs": [],
   "source": [
    "\n"
   ]
  },
  {
   "cell_type": "code",
   "execution_count": null,
   "metadata": {},
   "outputs": [],
   "source": []
  },
  {
   "cell_type": "code",
   "execution_count": null,
   "metadata": {
    "colab": {
     "base_uri": "https://localhost:8080/",
     "height": 310
    },
    "id": "ynGm6Nm8QW_M",
    "outputId": "2f7feb19-ea36-4c94-fd2f-70a3b76d725c"
   },
   "outputs": [],
   "source": [
    "interp = ClassificationInterpretation.from_learner(learn)\n",
    "interp.plot_confusion_matrix()"
   ]
  },
  {
   "cell_type": "markdown",
   "metadata": {
    "id": "UxdHGMV2Q3BJ"
   },
   "source": [
    "Check top losses."
   ]
  },
  {
   "cell_type": "code",
   "execution_count": null,
   "metadata": {
    "colab": {
     "base_uri": "https://localhost:8080/",
     "height": 400
    },
    "id": "9aDQg-X-Q15W",
    "outputId": "ccb4001a-d40c-477b-8f75-1b2c43271e45"
   },
   "outputs": [],
   "source": [
    "interp.plot_top_losses(NoOfDispImds, nrows=2)"
   ]
  },
  {
   "cell_type": "code",
   "execution_count": null,
   "metadata": {
    "id": "wbXPXZtwKxbP"
   },
   "outputs": [],
   "source": [
    "#xray = xray.new(item_tfms=Resize(128), batch_tfms=aug_transforms(mult=2))\n",
    "#xray.show_batch(max_n=4, nrows=1, unique=True)"
   ]
  },
  {
   "cell_type": "code",
   "execution_count": null,
   "metadata": {
    "colab": {
     "base_uri": "https://localhost:8080/",
     "height": 340
    },
    "id": "9ghCyeWuRpvk",
    "outputId": "c3d1b4a8-a452-4b27-c3e5-506eb76ef935"
   },
   "outputs": [],
   "source": [
    "learn.export()"
   ]
  },
  {
   "cell_type": "markdown",
   "metadata": {
    "id": "4Vb4o5Zxcfov"
   },
   "source": [
    "Upload an image to check the ANN."
   ]
  },
  {
   "cell_type": "code",
   "execution_count": null,
   "metadata": {
    "id": "vWwGnm6McmZx"
   },
   "outputs": [],
   "source": [
    "uploader = widgets.FileUpload()\n",
    "uploader"
   ]
  },
  {
   "cell_type": "code",
   "execution_count": null,
   "metadata": {
    "id": "fFwM3H53cpMZ"
   },
   "outputs": [],
   "source": []
  },
  {
   "cell_type": "markdown",
   "metadata": {
    "id": "4K8rUxDaBwLA"
   },
   "source": [
    "References\n",
    "\n",
    "[1] https://docs.fast.ai/tutorial.medical_imaging.html#Download-and-import-of-X-ray-DICOM-files"
   ]
  }
 ],
 "metadata": {
  "colab": {
   "authorship_tag": "ABX9TyM55TY/vunHJZSGsBuuUqHv",
   "collapsed_sections": [],
   "include_colab_link": true,
   "mount_file_id": "1CsRWSmnM3kDVR8pHhJDu1_P9Wz69HB8g",
   "name": "XRayImagesAnalysis",
   "provenance": []
  },
  "kernelspec": {
   "display_name": "Python 3",
   "language": "python",
   "name": "python3"
  },
  "language_info": {
   "codemirror_mode": {
    "name": "ipython",
    "version": 3
   },
   "file_extension": ".py",
   "mimetype": "text/x-python",
   "name": "python",
   "nbconvert_exporter": "python",
   "pygments_lexer": "ipython3",
   "version": "3.8.3"
  }
 },
 "nbformat": 4,
 "nbformat_minor": 1
}
